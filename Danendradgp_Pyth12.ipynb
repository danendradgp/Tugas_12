{
  "nbformat": 4,
  "nbformat_minor": 0,
  "metadata": {
    "colab": {
      "name": "Danendradgp_Pyth12.ipynb",
      "provenance": [],
      "authorship_tag": "ABX9TyMZLgpTULNl6Bx955VrpJZU",
      "include_colab_link": true
    },
    "kernelspec": {
      "name": "python3",
      "display_name": "Python 3"
    }
  },
  "cells": [
    {
      "cell_type": "markdown",
      "metadata": {
        "id": "view-in-github",
        "colab_type": "text"
      },
      "source": [
        "<a href=\"https://colab.research.google.com/github/danendradgp/Tugas_12/blob/main/Danendradgp_Pyth12.ipynb\" target=\"_parent\"><img src=\"https://colab.research.google.com/assets/colab-badge.svg\" alt=\"Open In Colab\"/></a>"
      ]
    },
    {
      "cell_type": "code",
      "metadata": {
        "id": "2Wt99HNpjB7t"
      },
      "source": [
        "import numpy as np"
      ],
      "execution_count": 1,
      "outputs": []
    },
    {
      "cell_type": "code",
      "metadata": {
        "colab": {
          "base_uri": "https://localhost:8080/"
        },
        "id": "gNRct1-ji44r",
        "outputId": "3534ad98-9cb7-424d-bee6-4a289983cdb8"
      },
      "source": [
        "def Pathloss(jarak, frek, tipe_area, ht, hr):\r\n",
        "    # Menghitung ahr\r\n",
        "    ahr = ((1.1 * np.log(frek) - 0.7) * hr) - (1.56 * np.log(frek) - 0.8)\r\n",
        "\r\n",
        "    # Menghitung C1 dan C2\r\n",
        "    if ((frek) >= 400 and (frek) <= 1500):\r\n",
        "        c1 = 69.55\r\n",
        "        c2 = 26.16\r\n",
        "    elif ((frek) > 1500 and (frek) <= 2000):\r\n",
        "        c1 = 46.3\r\n",
        "        c2 = 33.9\r\n",
        "    else:\r\n",
        "        return None\r\n",
        "\r\n",
        "    # Menghitung Cm\r\n",
        "    if tipe_area == \"Urban\":\r\n",
        "        cm = 0\r\n",
        "    elif tipe_area == \"Suburban\":\r\n",
        "        cm = -2 * np.log10(frek / 28) ** -5.4\r\n",
        "    elif tipe_area == \"Open\":\r\n",
        "        cm = -4.78 * np.log10(frek) ** +18.33 * np.log10(frek) - 40.94\r\n",
        "    else:\r\n",
        "        return None\r\n",
        "\r\n",
        "    # Menghitung Pathloss\r\n",
        "    return c1 + c2 * np.log(frek) - 13.83 * np.log(hr) - ahr + (44.9 - 6.55 * np.log(ht)) * np.log(jarak) + cm\r\n",
        "\r\n",
        "\r\n",
        "try:\r\n",
        "    #jarak = 10 km , frek = 2000MHz , tipe area = Suburban , tinggi pemancar = 50 , tinggi penerima = 25\r\n",
        "    print(\"contoh pathloss 1 = \", Pathloss(10, 1500, \"Suburban\", 50, 25),\"dB\")\r\n",
        "    \r\n",
        "    # jarak = 5 km , frek = 800MHz , tipe area = Urban , tinggi pemancar = 35 , tinggi penerima = 15\r\n",
        "    print(\"contoh pathloss 2 = \", Pathloss(2, 800, \"Urban\", 30, 15),\"dB\")\r\n",
        "\r\n",
        "    #jarak = 15 km , frek = 1000MHz , tipe area = Open , tinggi pemancar = 45 , tinggi penerima = 15\r\n",
        "    print(\"contoh pathloss 3 = \", Pathloss(10, 1500, \"Open\", 45, 15),\"dB\")\r\n",
        "except NameError:\r\n",
        "    print(\"undefined :(\")"
      ],
      "execution_count": 2,
      "outputs": [
        {
          "output_type": "stream",
          "text": [
            "contoh pathloss 1 =  87.62306152124373 dB\n",
            "contoh pathloss 2 =  132.47949374997532 dB\n",
            "contoh pathloss 3 =  -24044682910.0073 dB\n"
          ],
          "name": "stdout"
        }
      ]
    }
  ]
}